{
 "cells": [
  {
   "cell_type": "code",
   "execution_count": null,
   "id": "95aee2c3",
   "metadata": {},
   "outputs": [],
   "source": [
    "dbutils.widgets.dropdown(\"Choose functioanlity\", \"Funtionality\", [\"Estimate Migration Time\",\"Mange to External conversion\",\"Upgrade Tables to unity\"], \"Pick the functionality\")"
   ]
  }
 ],
 "metadata": {
  "language_info": {
   "name": "python"
  }
 },
 "nbformat": 4,
 "nbformat_minor": 5
}
