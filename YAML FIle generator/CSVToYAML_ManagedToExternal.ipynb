{
 "cells": [
  {
   "cell_type": "markdown",
   "metadata": {},
   "source": [
    "# <a id='toc1_'></a>[__Managed to External table conversion script__](#toc0_)\n",
    "As you know in unity catalog environment Managed tables are not allowed to upgrde from hive metastore. We have to convert all the Managed tables to External inorder to migrate (__[more info](https://learn.microsoft.com/en-us/azure/databricks/data-governance/unity-catalog/migrate)__)\n",
    "## Required pacakages\n",
    "> pandas <br>\n",
    "> PyYAML"
   ]
  },
  {
   "cell_type": "code",
   "execution_count": null,
   "metadata": {
    "application/vnd.databricks.v1+cell": {
     "cellMetadata": {},
     "inputWidgets": {},
     "nuid": "fa5d1786-beaa-43e7-bde9-845dc42ee5e9",
     "showTitle": false,
     "title": ""
    }
   },
   "outputs": [],
   "source": [
    "# Install pandas package\n",
    "pip install pandas"
   ]
  },
  {
   "cell_type": "code",
   "execution_count": null,
   "metadata": {
    "application/vnd.databricks.v1+cell": {
     "cellMetadata": {},
     "inputWidgets": {},
     "nuid": "8dcdad20-117e-4ef8-8be9-10f05a5af4bd",
     "showTitle": false,
     "title": ""
    }
   },
   "outputs": [],
   "source": [
    "# Install PyYAML package\n",
    "pip install PyYAML"
   ]
  },
  {
   "cell_type": "code",
   "execution_count": null,
   "metadata": {
    "application/vnd.databricks.v1+cell": {
     "cellMetadata": {},
     "inputWidgets": {},
     "nuid": "b8bd3a12-9e89-4c92-980f-35a768cac457",
     "showTitle": false,
     "title": ""
    }
   },
   "outputs": [],
   "source": [
    "# Import necessary libraries\n",
    "import os\n",
    "import yaml\n",
    "import pandas as pd\n",
    "\n",
    "# Initialize the YAML file with the required structure\n",
    "def init(yamlpath):\n",
    "    \"\"\"\n",
    "    Initialize the YAML file with the required structure.\n",
    "    \n",
    "    Parameters:\n",
    "    yamlpath (str): The path to the YAML file to be initialized.\n",
    "    \"\"\"\n",
    "    with open(yamlpath, \"w\") as fo:\n",
    "        fo.write(\"resources:\")\n",
    "        fo.write(\"\\n\")\n",
    "        fo.write(\" tables:\\n\")\n",
    "\n",
    "# Write data to the YAML file\n",
    "def write_yaml(new_yaml_data_dict, yamlpath):\n",
    "    \"\"\"\n",
    "    Write data to the YAML file.\n",
    "    \n",
    "    Parameters:\n",
    "    new_yaml_data_dict (dict): The dictionary containing the data to be written to the YAML file.\n",
    "    yamlpath (str): The path to the YAML file.\n",
    "    \"\"\"\n",
    "    if not os.path.isfile(yamlpath):\n",
    "        with open(yamlpath, \"a\") as fo:\n",
    "            fo.write(\"\\n\")\n",
    "\n",
    "    #the leading spaces and indent=4 are key here!\n",
    "    sdump = \"  \" + yaml.dump(\n",
    "                new_yaml_data_dict\n",
    "                ,indent=4\n",
    "                )\n",
    "\n",
    "    with open(yamlpath, \"a\") as fo:\n",
    "        fo.write(sdump)\n",
    "\n",
    "# Convert CSV data to YAML format\n",
    "def csvToYaml(csvFile, yamlpath):\n",
    "    \"\"\"\n",
    "    Convert CSV data to YAML format.\n",
    "    \n",
    "    Parameters:\n",
    "    csvFile (str): The path to the CSV file containing the data.\n",
    "    yamlpath (str): The path to the YAML file where the data will be written.\n",
    "    \"\"\"\n",
    "    df = pd.read_csv(csvFile)\n",
    "    records = df.to_dict(orient='records')\n",
    "    rangenum = range(1,len(records)+1)\n",
    "    for row,i in zip(records,rangenum):\n",
    "        tname = row[\"name\"]\n",
    "        new_yaml_data_dict = {\n",
    "            f\"{tname}\":{\n",
    "                'database':row[\"database\"],\n",
    "                'name':tname,\n",
    "                'target_schema':row['target_schema'],\n",
    "                'target_table':tname,\n",
    "                'is_pii':row[\"is_pii\"],\n",
    "                't_no':i\n",
    "            }\n",
    "        }\n",
    "        write_yaml(new_yaml_data_dict,yamlpath)\n",
    "        \n",
    "#YAML path\n",
    "yamlpath = \"Test.yml\"\n",
    "#CSV path\n",
    "csvpath = \"Tablelist.csv\"\n",
    "init(yamlpath)\n",
    "csvToYaml(csvpath,yamlpath)\n"
   ]
  }
 ],
 "metadata": {
  "application/vnd.databricks.v1+notebook": {
   "dashboards": [],
   "environmentMetadata": null,
   "language": "python",
   "notebookMetadata": {},
   "notebookName": "CSVToYAML_ManagedToExternal",
   "widgets": {}
  },
  "kernelspec": {
   "display_name": "Python 3",
   "language": "python",
   "name": "python3"
  },
  "language_info": {
   "name": "python",
   "version": "3.12.3"
  }
 },
 "nbformat": 4,
 "nbformat_minor": 0
}
