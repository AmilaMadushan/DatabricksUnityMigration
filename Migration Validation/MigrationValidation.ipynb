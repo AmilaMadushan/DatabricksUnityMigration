{
 "cells": [
  {
   "cell_type": "markdown",
   "metadata": {
    "application/vnd.databricks.v1+cell": {
     "cellMetadata": {},
     "inputWidgets": {},
     "nuid": "087d064f-4abd-43da-83e4-aa493bbd6556",
     "showTitle": false,
     "tableResultSettingsMap": {},
     "title": ""
    }
   },
   "source": [
    "## Validation script post migrating hive_metastore to UC\n",
    "\n",
    "#### Overview\n",
    "Crosschecks tables in hive_metastore (based on UCX assesment) and tables in UC (based on 'system.information_schema'). This script should be run in interactive mode and needs a person to check it's results.\n",
    "\n",
    "#### Pre-requisites\n",
    "Run UCX assesment right after the migration script and before running this validation. This will ensure all existent & migrated tables are captured in the UCX tables."
   ]
  },
  {
   "cell_type": "markdown",
   "metadata": {
    "application/vnd.databricks.v1+cell": {
     "cellMetadata": {},
     "inputWidgets": {},
     "nuid": "56321b83-51b3-401d-b616-f451ceb4b615",
     "showTitle": false,
     "tableResultSettingsMap": {},
     "title": ""
    }
   },
   "source": [
    "### Configuration"
   ]
  },
  {
   "cell_type": "code",
   "execution_count": 0,
   "metadata": {
    "application/vnd.databricks.v1+cell": {
     "cellMetadata": {},
     "inputWidgets": {},
     "nuid": "33e4eed2-5584-43b3-8081-6c1e4730a0e4",
     "showTitle": false,
     "tableResultSettingsMap": {},
     "title": ""
    }
   },
   "outputs": [],
   "source": [
    "# Widgets\n",
    "dbutils.widgets.text(\"ucx-schema\", \"ucx\", \"UCX schema in hive_metastore\")\n",
    "dbutils.widgets.text(\"exclusion-schemas\", \"ucx\", \"Schemas to exclude from this validation\")\n",
    "dbutils.widgets.text(\"uc-catalog\", \"\", \"UC catalog\")"
   ]
  },
  {
   "cell_type": "code",
   "execution_count": 0,
   "metadata": {
    "application/vnd.databricks.v1+cell": {
     "cellMetadata": {},
     "inputWidgets": {},
     "nuid": "cfdca058-6cbd-42cd-917f-39bc5606870c",
     "showTitle": false,
     "tableResultSettingsMap": {},
     "title": ""
    }
   },
   "outputs": [],
   "source": [
    "ucx_schema = dbutils.widgets.get(\"ucx-schema\")\n",
    "uc_catalog = dbutils.widgets.get(\"uc-catalog\")\n",
    "exclusion_schemas = dbutils.widgets.get(\"exclusion-schemas\")\n",
    "if (exclusion_schemas != ''):\n",
    "    exclusion_schemas_list = (str(exclusion_schemas.replace(' ','').split(',')).replace(\"[\", \"(\").replace(\"]\", \")\"))\n",
    "if not ucx_schema:\n",
    "    raise ValueError(\"You need specify the name of the UCX schema.\")\n",
    "if not uc_catalog:\n",
    "    raise ValueError(\"You need to specify the name of the UC catalog.\")\n"
   ]
  },
  {
   "cell_type": "code",
   "execution_count": 0,
   "metadata": {
    "application/vnd.databricks.v1+cell": {
     "cellMetadata": {},
     "inputWidgets": {},
     "nuid": "3e09770b-b025-44ad-b97a-d34b19bc8bb0",
     "showTitle": false,
     "tableResultSettingsMap": {},
     "title": ""
    }
   },
   "outputs": [],
   "source": [
    "# Inspect external tables in Hive_metastore; number should match the total count of migrated tables in the migration script\n",
    "display(spark.sql(f\"select * from hive_metastore.{ucx_schema}.tables where object_type == 'EXTERNAL' and database not in {exclusion_schemas_list}\"))"
   ]
  },
  {
   "cell_type": "markdown",
   "metadata": {
    "application/vnd.databricks.v1+cell": {
     "cellMetadata": {},
     "inputWidgets": {},
     "nuid": "f8143998-9ca0-4665-b1f5-51c5846b6da8",
     "showTitle": false,
     "tableResultSettingsMap": {},
     "title": ""
    }
   },
   "source": [
    "### Tables in UC not marked as upgraded"
   ]
  },
  {
   "cell_type": "code",
   "execution_count": 0,
   "metadata": {
    "application/vnd.databricks.v1+cell": {
     "cellMetadata": {},
     "inputWidgets": {},
     "nuid": "85b1d57d-4567-4333-80e7-162260e77b71",
     "showTitle": false,
     "tableResultSettingsMap": {},
     "title": ""
    }
   },
   "outputs": [],
   "source": [
    "# external tables from hive which have not been upgraded; there should be no entries here; if there are, they should be looked at row by row and added to an issue list; ensure the UCX assesment has been run after the hive migration to this list is up to date\n",
    "display(spark.sql(f\"select * from hive_metastore.{ucx_schema}.tables where object_type == 'EXTERNAL' and database not in {exclusion_schemas_list} and upgraded_to is null\"))"
   ]
  },
  {
   "cell_type": "code",
   "execution_count": 0,
   "metadata": {
    "application/vnd.databricks.v1+cell": {
     "cellMetadata": {},
     "inputWidgets": {},
     "nuid": "a0144100-364b-41b7-bc27-4a96559d5f5f",
     "showTitle": false,
     "tableResultSettingsMap": {},
     "title": ""
    }
   },
   "outputs": [],
   "source": [
    "# inspect all tables in UC\n",
    "display(spark.sql(f\"select table_catalog, table_schema, table_name, table_type from {uc_catalog}.information_schema.tables where table_schema <> 'information_schema' and table_type = 'EXTERNAL'\"))"
   ]
  },
  {
   "cell_type": "markdown",
   "metadata": {
    "application/vnd.databricks.v1+cell": {
     "cellMetadata": {},
     "inputWidgets": {},
     "nuid": "b16de9b6-3b54-4ada-a097-7910b065716c",
     "showTitle": false,
     "tableResultSettingsMap": {},
     "title": ""
    }
   },
   "source": [
    "### Difference between the tables in hive and the ones in UC"
   ]
  },
  {
   "cell_type": "code",
   "execution_count": 0,
   "metadata": {
    "application/vnd.databricks.v1+cell": {
     "cellMetadata": {},
     "inputWidgets": {},
     "nuid": "ec6dbd14-6a0e-4f28-9f3e-1af1af31966b",
     "showTitle": false,
     "tableResultSettingsMap": {},
     "title": ""
    }
   },
   "outputs": [],
   "source": [
    "hive_tables = spark.sql(f\"select database as table_schema, name as table_name from hive_metastore.{ucx_schema}.tables where object_type == 'EXTERNAL' and database not in {exclusion_schemas_list}\")\n",
    "\n",
    "uc_tables = spark.sql(f\"select table_schema, table_name from {uc_catalog}.information_schema.tables where table_schema <> 'information_schema' and table_type = 'EXTERNAL'\")\n",
    "\n",
    "# tables present in hive but not in UC; the resulting difference should be empty, there should be no entries here; if there are, they should be looked at row by row and added to an issue list\n",
    "print(\"Tables in Hive but not in UC:\")\n",
    "display(hive_tables.exceptAll(uc_tables))\n",
    "\n",
    "# tables present in UC but not in hive; the resulting difference should be empty, there should be no entries here; if there are, they should be looked at row by row and added to an issue list\n",
    "print(\"Tables in UC but not in Hive:\")\n",
    "display(uc_tables.exceptAll(hive_tables))"
   ]
  },
  {
   "cell_type": "markdown",
   "metadata": {
    "application/vnd.databricks.v1+cell": {
     "cellMetadata": {},
     "inputWidgets": {},
     "nuid": "6aad93af-bf7d-4f5d-86c6-2b8937cf944a",
     "showTitle": false,
     "tableResultSettingsMap": {},
     "title": ""
    }
   },
   "source": [
    "### Difference between the views in hive and the ones in UC"
   ]
  },
  {
   "cell_type": "code",
   "execution_count": 0,
   "metadata": {
    "application/vnd.databricks.v1+cell": {
     "cellMetadata": {},
     "inputWidgets": {},
     "nuid": "d42ebc2b-d59e-4207-b215-793c47eefb2d",
     "showTitle": false,
     "tableResultSettingsMap": {},
     "title": ""
    }
   },
   "outputs": [],
   "source": [
    "# do the difference between the views in hive and the ones in UC\n",
    "hive_views = spark.sql(f\"select database as table_schema, name as table_name from hive_metastore.{ucx_schema}.tables where object_type == 'VIEW' and database not in {exclusion_schemas_list}\")\n",
    "uc_views = spark.sql(f\"select table_schema, table_name from {uc_catalog}.information_schema.tables where table_schema <> 'information_schema' and table_type = 'VIEW'\")\n",
    "\n",
    "# views present in hive but not in UC; the resulting difference should be empty, there should be no entries here; if there are, they should be looked at row by row and added to an issue list\n",
    "print(\"Views in Hive but not in UC:\")\n",
    "display(hive_views.exceptAll(uc_views))\n",
    "\n",
    "# views present in UC but not in hive; the resulting difference should be empty, there should be no entries here; if there are, they should be looked at row by row and added to an issue list\n",
    "print(\"Views in UC but not in Hive:\")\n",
    "display(uc_views.exceptAll(hive_views))"
   ]
  }
 ],
 "metadata": {
  "application/vnd.databricks.v1+notebook": {
   "computePreferences": null,
   "dashboards": [],
   "environmentMetadata": null,
   "language": "python",
   "notebookMetadata": {},
   "notebookName": "MigrationValidation",
   "widgets": {}
  },
  "language_info": {
   "name": "python"
  }
 },
 "nbformat": 4,
 "nbformat_minor": 0
}